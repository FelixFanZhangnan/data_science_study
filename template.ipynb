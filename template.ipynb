{
  "nbformat": 4,
  "nbformat_minor": 0,
  "metadata": {
    "colab": {
      "provenance": [],
      "authorship_tag": "ABX9TyNSN94opYxRnnN7jUfI6nat",
      "include_colab_link": true
    },
    "kernelspec": {
      "name": "python3",
      "display_name": "Python 3"
    },
    "language_info": {
      "name": "python"
    }
  },
  "cells": [
    {
      "cell_type": "markdown",
      "metadata": {
        "id": "view-in-github",
        "colab_type": "text"
      },
      "source": [
        "<a href=\"https://colab.research.google.com/github/FelixFanZhangnan/data_science_study/blob/main/template.ipynb\" target=\"_parent\"><img src=\"https://colab.research.google.com/assets/colab-badge.svg\" alt=\"Open In Colab\"/></a>"
      ]
    },
    {
      "cell_type": "code",
      "execution_count": null,
      "metadata": {
        "id": "ul25lWVut16Q"
      },
      "outputs": [],
      "source": [
        "for i in range (1, 100):\n",
        "  print(i)\n",
        "print()"
      ]
    },
    {
      "cell_type": "code",
      "source": [
        "print(\"This is my first time try data science.\")"
      ],
      "metadata": {
        "id": "kC30v4gPxcKh",
        "outputId": "4f22aa6e-ce23-47d6-afdd-a052d23e994e",
        "colab": {
          "base_uri": "https://localhost:8080/"
        }
      },
      "execution_count": 1,
      "outputs": [
        {
          "output_type": "stream",
          "name": "stdout",
          "text": [
            "This is my first time try data science.\n"
          ]
        }
      ]
    }
  ]
}